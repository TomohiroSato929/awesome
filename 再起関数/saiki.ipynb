{
 "cells": [
  {
   "cell_type": "markdown",
   "id": "975563d1-7bb2-45e1-9dcf-11080cba34f5",
   "metadata": {
    "tags": []
   },
   "source": [
    "# Freedom\n",
    "~再起関数からの開放~"
   ]
  },
  {
   "cell_type": "code",
   "execution_count": 2,
   "id": "fa872794-807e-4135-9415-c991d33d14fa",
   "metadata": {},
   "outputs": [
    {
     "name": "stdout",
     "output_type": "stream",
     "text": [
      "0\n",
      "1\n",
      "2\n",
      "3\n",
      "4\n",
      "5\n",
      "6\n",
      "7\n",
      "8\n",
      "9\n"
     ]
    }
   ],
   "source": [
    "n=0\n",
    "while n<10:\n",
    "    print(n)\n",
    "    n+=1"
   ]
  },
  {
   "cell_type": "code",
   "execution_count": 4,
   "id": "7111f687-330f-4779-a61f-a2dbe1aab020",
   "metadata": {},
   "outputs": [
    {
     "name": "stdout",
     "output_type": "stream",
     "text": [
      "0\n",
      "1\n",
      "2\n",
      "3\n",
      "4\n",
      "5\n",
      "6\n",
      "7\n",
      "8\n",
      "9\n"
     ]
    }
   ],
   "source": [
    "def whil(n):\n",
    "    if n>=10:\n",
    "        return\n",
    "    print(n)\n",
    "    whil(n+1)\n",
    "\n",
    "whil(0)"
   ]
  },
  {
   "cell_type": "markdown",
   "id": "9c13143c-1c61-438d-9efb-ff5e3685f610",
   "metadata": {},
   "source": [
    "### 総和"
   ]
  },
  {
   "cell_type": "code",
   "execution_count": 29,
   "id": "f58c3289-39f0-4e5f-816b-b54aa913a397",
   "metadata": {},
   "outputs": [
    {
     "name": "stdout",
     "output_type": "stream",
     "text": [
      "0\n",
      "1\n",
      "3\n",
      "6\n",
      "10\n",
      "15\n",
      "21\n",
      "28\n",
      "36\n",
      "45\n"
     ]
    }
   ],
   "source": [
    "n=0\n",
    "s=0\n",
    "while n<10:\n",
    "    s+=n\n",
    "    print(s)\n",
    "    n+=1"
   ]
  },
  {
   "cell_type": "markdown",
   "id": "cdab85a0-7ec2-4796-b666-85ce8fdf52ad",
   "metadata": {
    "tags": []
   },
   "source": [
    "# dead or alive"
   ]
  },
  {
   "cell_type": "code",
   "execution_count": 9,
   "id": "d6c7c26d-8113-4d5f-ac3b-dcf6e56b8d59",
   "metadata": {},
   "outputs": [],
   "source": [
    "import random\n",
    "hp=50\n",
    "\n",
    "hp1,hp2=hp,hp\n",
    "\n",
    "def fight(hp1,hp2,turn):\n",
    "    atacker=('player1' if turn==0 else 'player2')\n",
    "    difender=('player2' if turn==0 else 'player1')\n",
    "    print(f'player1 : {(hp1 if turn==0 else hp2)}  ---  player2 : {(hp2 if turn==0 else hp1)}')\n",
    "    if hp1<=0:\n",
    "        print(f'Winer is {difender}!!')\n",
    "        return\n",
    "    \n",
    "    n=input(f'{atacker}s turn ( choice 1 ~ 5 ):')\n",
    "    try:\n",
    "        if int(n)>=1 and int(n)<=5:\n",
    "            n=int(n)\n",
    "        else:\n",
    "            print('You are too hungry!!\\n')\n",
    "            fight(hp2,hp1,(turn+1)%2)\n",
    "    except:\n",
    "        print('Skip!!\\n')\n",
    "        fight(hp2,hp1,(turn+1)%2)\n",
    "        \n",
    "    cri=random.randint(1,(n*3))\n",
    "    damage=(n*5 if cri==2 else n)\n",
    "    hp2=hp2-damage\n",
    "    print(f\"{('Critical!!'+str(damage)+'damage!' if cri==2 else str(damage)+'damage!')}\\n\")\n",
    "    fight(hp2,hp1,(turn+1)%2)\n",
    "    "
   ]
  },
  {
   "cell_type": "code",
   "execution_count": null,
   "id": "ed95353c-913b-4003-b2c5-3e52e956a25d",
   "metadata": {},
   "outputs": [],
   "source": [
    " fight(hp1,hp2,0)"
   ]
  },
  {
   "cell_type": "code",
   "execution_count": 2,
   "id": "fa943d26-f1f9-4617-beb7-8c8bf0a156b2",
   "metadata": {},
   "outputs": [
    {
     "name": "stdout",
     "output_type": "stream",
     "text": [
      "player1 : 50  ---  player2 : 50\n"
     ]
    },
    {
     "name": "stdout",
     "output_type": "stream",
     "text": [
      "player1s turn ( choice 1 ~ 5 ): 3\n"
     ]
    },
    {
     "name": "stdout",
     "output_type": "stream",
     "text": [
      "3damage!\n",
      "\n",
      "player1 : 50  ---  player2 : 47\n"
     ]
    },
    {
     "name": "stdout",
     "output_type": "stream",
     "text": [
      "player2s turn ( choice 1 ~ 5 ): 5\n"
     ]
    },
    {
     "name": "stdout",
     "output_type": "stream",
     "text": [
      "5damage!\n",
      "\n",
      "player1 : 45  ---  player2 : 47\n"
     ]
    },
    {
     "name": "stdout",
     "output_type": "stream",
     "text": [
      "player1s turn ( choice 1 ~ 5 ): 3\n"
     ]
    },
    {
     "name": "stdout",
     "output_type": "stream",
     "text": [
      "3damage!\n",
      "\n",
      "player1 : 45  ---  player2 : 44\n"
     ]
    },
    {
     "name": "stdout",
     "output_type": "stream",
     "text": [
      "player2s turn ( choice 1 ~ 5 ): 2\n"
     ]
    },
    {
     "name": "stdout",
     "output_type": "stream",
     "text": [
      "2damage!\n",
      "\n",
      "player1 : 43  ---  player2 : 44\n"
     ]
    },
    {
     "name": "stdout",
     "output_type": "stream",
     "text": [
      "player1s turn ( choice 1 ~ 5 ): 3\n"
     ]
    },
    {
     "name": "stdout",
     "output_type": "stream",
     "text": [
      "3damage!\n",
      "\n",
      "player1 : 43  ---  player2 : 41\n"
     ]
    },
    {
     "name": "stdout",
     "output_type": "stream",
     "text": [
      "player2s turn ( choice 1 ~ 5 ): 5\n"
     ]
    },
    {
     "name": "stdout",
     "output_type": "stream",
     "text": [
      "5damage!\n",
      "\n",
      "player1 : 38  ---  player2 : 41\n"
     ]
    },
    {
     "name": "stdout",
     "output_type": "stream",
     "text": [
      "player1s turn ( choice 1 ~ 5 ): 3\n"
     ]
    },
    {
     "name": "stdout",
     "output_type": "stream",
     "text": [
      "Critical!!30damage!\n",
      "\n",
      "player1 : 38  ---  player2 : 11\n"
     ]
    },
    {
     "name": "stdout",
     "output_type": "stream",
     "text": [
      "player2s turn ( choice 1 ~ 5 ): 4\n"
     ]
    },
    {
     "name": "stdout",
     "output_type": "stream",
     "text": [
      "4damage!\n",
      "\n",
      "player1 : 34  ---  player2 : 11\n"
     ]
    },
    {
     "name": "stdout",
     "output_type": "stream",
     "text": [
      "player1s turn ( choice 1 ~ 5 ): 1\n"
     ]
    },
    {
     "name": "stdout",
     "output_type": "stream",
     "text": [
      "1damage!\n",
      "\n",
      "player1 : 34  ---  player2 : 10\n"
     ]
    },
    {
     "name": "stdout",
     "output_type": "stream",
     "text": [
      "player2s turn ( choice 1 ~ 5 ): 4\n"
     ]
    },
    {
     "name": "stdout",
     "output_type": "stream",
     "text": [
      "4damage!\n",
      "\n",
      "player1 : 30  ---  player2 : 10\n"
     ]
    },
    {
     "name": "stdout",
     "output_type": "stream",
     "text": [
      "player1s turn ( choice 1 ~ 5 ): 1\n"
     ]
    },
    {
     "name": "stdout",
     "output_type": "stream",
     "text": [
      "Critical!!10damage!\n",
      "\n",
      "player1 : 30  ---  player2 : 0\n",
      "Winer is player1!!\n"
     ]
    }
   ],
   "source": [
    "fight(hp1,hp2,0)"
   ]
  },
  {
   "cell_type": "code",
   "execution_count": null,
   "id": "9575f198-2b04-471b-8c90-4b83140d3721",
   "metadata": {},
   "outputs": [],
   "source": []
  },
  {
   "cell_type": "code",
   "execution_count": null,
   "id": "15b963a5-854a-46ea-a870-1c9cd4b82966",
   "metadata": {},
   "outputs": [],
   "source": []
  },
  {
   "cell_type": "code",
   "execution_count": null,
   "id": "389bce6e-6fd4-4ae9-8d8b-0687b9eabf0b",
   "metadata": {},
   "outputs": [],
   "source": []
  },
  {
   "cell_type": "markdown",
   "id": "258bdcee-dc81-4813-9ea7-03e8fb901161",
   "metadata": {
    "tags": []
   },
   "source": [
    "# 素因数分解"
   ]
  },
  {
   "cell_type": "code",
   "execution_count": 4,
   "id": "438a132e-b0bf-4421-ad80-1c649fb07cd1",
   "metadata": {},
   "outputs": [],
   "source": [
    "import math\n",
    "import collections"
   ]
  },
  {
   "cell_type": "markdown",
   "id": "2d7cee74-2e6c-4a8e-8e41-28b477c5b12e",
   "metadata": {},
   "source": [
    "### 素数判別"
   ]
  },
  {
   "cell_type": "code",
   "execution_count": 3,
   "id": "fbbc1a39-bce7-45dc-b1a4-b0c7da8e8918",
   "metadata": {},
   "outputs": [],
   "source": [
    "#素数判別\n",
    "def sos(n):\n",
    "    for i in range(2,int(math.sqrt(n))):\n",
    "        if n % i ==0:\n",
    "            print(f'{i}で割れる！')\n",
    "            return\n",
    "    print(str(n) + 'は素数！')"
   ]
  },
  {
   "cell_type": "code",
   "execution_count": 3,
   "id": "cd9fb53b-a60e-4886-b4ae-f2deb943447b",
   "metadata": {},
   "outputs": [
    {
     "name": "stdout",
     "output_type": "stream",
     "text": [
      "123457は素数！\n"
     ]
    }
   ],
   "source": [
    "sos(123457)"
   ]
  },
  {
   "cell_type": "code",
   "execution_count": 17,
   "id": "26a94ce9-58f1-4353-90a2-226cd0b4e875",
   "metadata": {},
   "outputs": [
    {
     "name": "stdout",
     "output_type": "stream",
     "text": [
      "3で割れる！\n"
     ]
    }
   ],
   "source": [
    "sos(123456789)"
   ]
  },
  {
   "cell_type": "markdown",
   "id": "f40b30f3-fc4d-4201-95d3-782c9c4d2126",
   "metadata": {},
   "source": [
    "### 素因数分解"
   ]
  },
  {
   "cell_type": "code",
   "execution_count": 5,
   "id": "47f5843d-ab4f-45a0-95dc-cd45fa33592c",
   "metadata": {},
   "outputs": [],
   "source": [
    "def soins(n):\n",
    "    ins=[]\n",
    "    def sos(st,n):\n",
    "        if n==1 or n==st:\n",
    "            ins.append(int(n))\n",
    "            return\n",
    "        for i in range(st,int(math.sqrt(n))+1):\n",
    "            if n % i ==0:\n",
    "                ins.append(i)\n",
    "                sos(i,n/i)\n",
    "                return\n",
    "        ins.append(int(n))\n",
    "    sos(2,n)\n",
    "    print(ins)"
   ]
  },
  {
   "cell_type": "code",
   "execution_count": 6,
   "id": "f8ea7352-6bce-4608-bb03-db88417de117",
   "metadata": {},
   "outputs": [
    {
     "name": "stdout",
     "output_type": "stream",
     "text": [
      "[2, 5]\n"
     ]
    }
   ],
   "source": [
    "soins(10)"
   ]
  },
  {
   "cell_type": "code",
   "execution_count": 5,
   "id": "50a50d6e-a8d4-4c24-bd07-4d7e6e61c3c4",
   "metadata": {},
   "outputs": [
    {
     "name": "stdout",
     "output_type": "stream",
     "text": [
      "[3, 3, 3607, 3803]\n"
     ]
    }
   ],
   "source": [
    "soins(123456789)"
   ]
  },
  {
   "cell_type": "code",
   "execution_count": 6,
   "id": "59496fe1-e2b9-43da-acb1-f0685ef09a5b",
   "metadata": {},
   "outputs": [
    {
     "name": "stdout",
     "output_type": "stream",
     "text": [
      "[2, 3]\n"
     ]
    }
   ],
   "source": [
    "soins(6)"
   ]
  },
  {
   "cell_type": "markdown",
   "id": "d66ae62d-a63b-4387-b79d-b503ebed433e",
   "metadata": {},
   "source": [
    "### print"
   ]
  },
  {
   "cell_type": "code",
   "execution_count": 8,
   "id": "122a152e-8a5f-4bc3-85dc-8978388e9fd7",
   "metadata": {},
   "outputs": [
    {
     "data": {
      "text/plain": [
       "Counter({3: 2, 3607: 1, 3803: 1})"
      ]
     },
     "execution_count": 8,
     "metadata": {},
     "output_type": "execute_result"
    }
   ],
   "source": [
    "import collections\n",
    "\n",
    "c=collections.Counter(a)\n",
    "c"
   ]
  },
  {
   "cell_type": "code",
   "execution_count": 9,
   "id": "d9461036-1b85-4e9b-9ba9-941cc7ec7568",
   "metadata": {},
   "outputs": [
    {
     "name": "stdout",
     "output_type": "stream",
     "text": [
      "[3, 3607, 3803] [2, 1, 1]\n"
     ]
    }
   ],
   "source": [
    "d=list(c.keys())\n",
    "e=list(c.values())\n",
    "print(d,e)"
   ]
  },
  {
   "cell_type": "code",
   "execution_count": 10,
   "id": "3b930820-d1ef-4004-b82e-1a690f0da6b8",
   "metadata": {},
   "outputs": [
    {
     "name": "stdout",
     "output_type": "stream",
     "text": [
      "3^2 * 3607^1 * 3803^1\n"
     ]
    }
   ],
   "source": [
    "a=f'{d[0]}^{e[0]}'\n",
    "for i in range(1,len(e)):\n",
    "    a= a + f' * {d[i]}^{e[i]}'\n",
    "print(a)"
   ]
  },
  {
   "cell_type": "code",
   "execution_count": 25,
   "id": "aa1c48c8-677e-4263-83a4-1539d15c4180",
   "metadata": {},
   "outputs": [
    {
     "name": "stdout",
     "output_type": "stream",
     "text": [
      "3^2*3607*3803\n"
     ]
    }
   ],
   "source": [
    "a=str(d[0]) + ('' if e[0]==1 else '^'+str(e[0]))\n",
    "for i in range(1,len(e)):\n",
    "    a= a + '*'+ str(d[i]) + ('' if e[i]==1 else '^'+str(e[i]))\n",
    "print(a)"
   ]
  },
  {
   "cell_type": "markdown",
   "id": "2ddca81c-4fff-4c18-b911-25600b4cbd9d",
   "metadata": {},
   "source": [
    "### perfect"
   ]
  },
  {
   "cell_type": "code",
   "execution_count": 26,
   "id": "7879e481-933c-4c75-9bde-bef093afbd1b",
   "metadata": {},
   "outputs": [],
   "source": [
    "import math\n",
    "import collections\n",
    "\n",
    "def soins(n):\n",
    "    ins=[]\n",
    "    def sos(st,n):\n",
    "        if n==1 or n==st:\n",
    "            ins.append(int(n))\n",
    "            return\n",
    "        for i in range(st,int(math.sqrt(n))+1):\n",
    "            if n % i ==0:\n",
    "                ins.append(i)\n",
    "                sos(i,n/i)\n",
    "                return\n",
    "        ins.append(int(n))\n",
    "    sos(2,n)\n",
    "    #print\n",
    "    c=collections.Counter(ins)\n",
    "    d,e=list(c.keys()),list(c.values())\n",
    "    a=str(d[0]) + ('' if e[0]==1 else '^'+str(e[0]))\n",
    "    for i in range(1,len(e)):\n",
    "        a= a + ' * '+ str(d[i]) + ('' if e[i]==1 else '^'+str(e[i]))\n",
    "    print(f'{n} = {a}')"
   ]
  },
  {
   "cell_type": "code",
   "execution_count": 27,
   "id": "b27f0c7b-8b41-47be-b7c6-68670fb4b2b7",
   "metadata": {},
   "outputs": [
    {
     "name": "stdout",
     "output_type": "stream",
     "text": [
      "1234 = 2 * 617\n"
     ]
    }
   ],
   "source": [
    "soins(1234)"
   ]
  },
  {
   "cell_type": "code",
   "execution_count": 14,
   "id": "f7aaa435-9ec5-4a60-8884-0f71bf7ee50f",
   "metadata": {},
   "outputs": [
    {
     "name": "stdout",
     "output_type": "stream",
     "text": [
      "123456789123456789 = 3^1 * 4 * 53 * 194114448307322\n"
     ]
    }
   ],
   "source": [
    "soins(123456789123456789)"
   ]
  },
  {
   "cell_type": "code",
   "execution_count": null,
   "id": "8bf08c40-a931-4d5f-b3f5-2e21df3409cf",
   "metadata": {},
   "outputs": [],
   "source": []
  },
  {
   "cell_type": "code",
   "execution_count": null,
   "id": "e4842c3d-c07d-4406-8591-9272593f5b42",
   "metadata": {},
   "outputs": [],
   "source": []
  },
  {
   "cell_type": "markdown",
   "id": "769bfef3-e512-439b-bdba-eaa95bcc2503",
   "metadata": {},
   "source": [
    "# フィボナッチ"
   ]
  },
  {
   "cell_type": "code",
   "execution_count": 18,
   "id": "63003935-db55-4ecc-b711-21b9211de436",
   "metadata": {},
   "outputs": [],
   "source": [
    "def fib(n):\n",
    "    \"\"\"フィボナッチ数列\"\"\"\n",
    "    if n <= 1:\n",
    "        return n\n",
    "    return fib(n-1) + fib(n-2)\n",
    "\n",
    "def fib_memo(n):\n",
    "    \"\"\"メモ化フィボナッチ\"\"\"\n",
    "    memo = [0]*(n+1)\n",
    "\n",
    "    def _fib(n):\n",
    "        if n <= 1:\n",
    "            return n\n",
    "        if memo[n] != 0:\n",
    "            return memo[n]\n",
    "        memo[n] = _fib(n-1) + _fib(n-2)\n",
    "        return memo[n]\n",
    "\n",
    "    return _fib(n)"
   ]
  },
  {
   "cell_type": "code",
   "execution_count": 20,
   "id": "46a4aeaa-8f5b-4980-a0b1-7c1c2b287f55",
   "metadata": {},
   "outputs": [
    {
     "name": "stdout",
     "output_type": "stream",
     "text": [
      "9227465\n",
      "elapsed: 3.363447904586792\n",
      "9227465\n",
      "elapsed: 0.0\n"
     ]
    }
   ],
   "source": [
    "import time\n",
    "\n",
    "def do_fib(n):\n",
    "    start = time.time()\n",
    "    print(fib(n))\n",
    "    stop = time.time()\n",
    "    print(\"elapsed: {}\".format(stop - start))\n",
    "\n",
    "def do_fib_memo(n):\n",
    "    start = time.time()\n",
    "    print(fib_memo(n))\n",
    "    stop = time.time()\n",
    "    print(\"elapsed: {}\".format(stop - start))\n",
    "\n",
    "if __name__ == '__main__':\n",
    "    do_fib(35)\n",
    "    do_fib_memo(35)"
   ]
  },
  {
   "cell_type": "code",
   "execution_count": null,
   "id": "c4442338-6169-478e-a9a2-550a14583328",
   "metadata": {},
   "outputs": [],
   "source": []
  }
 ],
 "metadata": {
  "kernelspec": {
   "display_name": "Python 3 (ipykernel)",
   "language": "python",
   "name": "python3"
  },
  "language_info": {
   "codemirror_mode": {
    "name": "ipython",
    "version": 3
   },
   "file_extension": ".py",
   "mimetype": "text/x-python",
   "name": "python",
   "nbconvert_exporter": "python",
   "pygments_lexer": "ipython3",
   "version": "3.9.11"
  }
 },
 "nbformat": 4,
 "nbformat_minor": 5
}
